{
  "cells": [
    {
      "cell_type": "markdown",
      "metadata": {
        "id": "view-in-github",
        "colab_type": "text"
      },
      "source": [
        "<a href=\"https://colab.research.google.com/github/vigneshavmm/image_classification/blob/main/image.ipynb\" target=\"_parent\"><img src=\"https://colab.research.google.com/assets/colab-badge.svg\" alt=\"Open In Colab\"/></a>"
      ]
    },
    {
      "cell_type": "markdown",
      "metadata": {
        "id": "0-kCrgtdzd2U"
      },
      "source": [
        "Installing Required Library"
      ]
    },
    {
      "cell_type": "code",
      "execution_count": null,
      "metadata": {
        "colab": {
          "base_uri": "https://localhost:8080/"
        },
        "id": "guxykLYEpGyn",
        "outputId": "db75fdfd-d348-462e-dae9-475b2b640ad6"
      },
      "outputs": [
        {
          "name": "stdout",
          "output_type": "stream",
          "text": [
            "Collecting tensorflow-addons\n",
            "  Downloading tensorflow_addons-0.22.0-cp310-cp310-manylinux_2_17_x86_64.manylinux2014_x86_64.whl (612 kB)\n",
            "\u001b[2K     \u001b[90m━━━━━━━━━━━━━━━━━━━━━━━━━━━━━━━━━━━━━━━━\u001b[0m \u001b[32m612.3/612.3 kB\u001b[0m \u001b[31m5.6 MB/s\u001b[0m eta \u001b[36m0:00:00\u001b[0m\n",
            "\u001b[?25hRequirement already satisfied: packaging in /usr/local/lib/python3.10/dist-packages (from tensorflow-addons) (23.2)\n",
            "Collecting typeguard<3.0.0,>=2.7 (from tensorflow-addons)\n",
            "  Downloading typeguard-2.13.3-py3-none-any.whl (17 kB)\n",
            "Installing collected packages: typeguard, tensorflow-addons\n",
            "Successfully installed tensorflow-addons-0.22.0 typeguard-2.13.3\n"
          ]
        }
      ],
      "source": [
        "!pip install tensorflow-addons"
      ]
    },
    {
      "cell_type": "markdown",
      "metadata": {
        "id": "KmjyYJkGzkSv"
      },
      "source": [
        "Importing Required Library"
      ]
    },
    {
      "cell_type": "code",
      "execution_count": null,
      "metadata": {
        "colab": {
          "base_uri": "https://localhost:8080/"
        },
        "id": "ceLGeBvnpQe6",
        "outputId": "1bea83b2-9fb7-406b-d80e-a3e5164d7124"
      },
      "outputs": [
        {
          "name": "stderr",
          "output_type": "stream",
          "text": [
            "/usr/local/lib/python3.10/dist-packages/tensorflow_addons/utils/tfa_eol_msg.py:23: UserWarning: \n",
            "\n",
            "TensorFlow Addons (TFA) has ended development and introduction of new features.\n",
            "TFA has entered a minimal maintenance and release mode until a planned end of life in May 2024.\n",
            "Please modify downstream libraries to take dependencies from other repositories in our TensorFlow community (e.g. Keras, Keras-CV, and Keras-NLP). \n",
            "\n",
            "For more information see: https://github.com/tensorflow/addons/issues/2807 \n",
            "\n",
            "  warnings.warn(\n"
          ]
        }
      ],
      "source": [
        "import numpy as np\n",
        "import tensorflow as tf\n",
        "from tensorflow import keras\n",
        "from tensorflow.keras import layers\n",
        "import tensorflow_addons as tfa"
      ]
    },
    {
      "cell_type": "markdown",
      "metadata": {
        "id": "3HRtIaDsrOoI"
      },
      "source": [
        "Prepare the data"
      ]
    },
    {
      "cell_type": "code",
      "execution_count": null,
      "metadata": {
        "colab": {
          "base_uri": "https://localhost:8080/"
        },
        "id": "yy0MnwImoZcw",
        "outputId": "6bdacc68-7159-4b75-a1cb-3ffa66b7b3e6"
      },
      "outputs": [
        {
          "name": "stdout",
          "output_type": "stream",
          "text": [
            "Downloading data from https://www.cs.toronto.edu/~kriz/cifar-100-python.tar.gz\n",
            "169001437/169001437 [==============================] - 5s 0us/step\n"
          ]
        },
        {
          "data": {
            "text/plain": [
              "((array([[[[255, 255, 255],\n",
              "           [255, 255, 255],\n",
              "           [255, 255, 255],\n",
              "           ...,\n",
              "           [195, 205, 193],\n",
              "           [212, 224, 204],\n",
              "           [182, 194, 167]],\n",
              "  \n",
              "          [[255, 255, 255],\n",
              "           [254, 254, 254],\n",
              "           [254, 254, 254],\n",
              "           ...,\n",
              "           [170, 176, 150],\n",
              "           [161, 168, 130],\n",
              "           [146, 154, 113]],\n",
              "  \n",
              "          [[255, 255, 255],\n",
              "           [254, 254, 254],\n",
              "           [255, 255, 255],\n",
              "           ...,\n",
              "           [189, 199, 169],\n",
              "           [166, 178, 130],\n",
              "           [121, 133,  87]],\n",
              "  \n",
              "          ...,\n",
              "  \n",
              "          [[148, 185,  79],\n",
              "           [142, 182,  57],\n",
              "           [140, 179,  60],\n",
              "           ...,\n",
              "           [ 30,  17,   1],\n",
              "           [ 65,  62,  15],\n",
              "           [ 76,  77,  20]],\n",
              "  \n",
              "          [[122, 157,  66],\n",
              "           [120, 155,  58],\n",
              "           [126, 160,  71],\n",
              "           ...,\n",
              "           [ 22,  16,   3],\n",
              "           [ 97, 112,  56],\n",
              "           [141, 161,  87]],\n",
              "  \n",
              "          [[ 87, 122,  41],\n",
              "           [ 88, 122,  39],\n",
              "           [101, 134,  56],\n",
              "           ...,\n",
              "           [ 34,  36,  10],\n",
              "           [105, 133,  59],\n",
              "           [138, 173,  79]]],\n",
              "  \n",
              "  \n",
              "         [[[255, 255, 255],\n",
              "           [253, 253, 253],\n",
              "           [253, 253, 253],\n",
              "           ...,\n",
              "           [253, 253, 253],\n",
              "           [253, 253, 253],\n",
              "           [255, 255, 255]],\n",
              "  \n",
              "          [[255, 255, 255],\n",
              "           [255, 255, 255],\n",
              "           [255, 255, 255],\n",
              "           ...,\n",
              "           [255, 255, 255],\n",
              "           [255, 255, 255],\n",
              "           [255, 255, 255]],\n",
              "  \n",
              "          [[255, 255, 255],\n",
              "           [255, 255, 255],\n",
              "           [255, 255, 255],\n",
              "           ...,\n",
              "           [255, 255, 255],\n",
              "           [255, 255, 255],\n",
              "           [255, 255, 255]],\n",
              "  \n",
              "          ...,\n",
              "  \n",
              "          [[255, 255, 255],\n",
              "           [255, 255, 255],\n",
              "           [255, 255, 255],\n",
              "           ...,\n",
              "           [255, 255, 255],\n",
              "           [255, 255, 255],\n",
              "           [255, 255, 255]],\n",
              "  \n",
              "          [[255, 255, 255],\n",
              "           [255, 255, 255],\n",
              "           [255, 255, 255],\n",
              "           ...,\n",
              "           [255, 255, 255],\n",
              "           [255, 255, 255],\n",
              "           [255, 255, 255]],\n",
              "  \n",
              "          [[255, 255, 255],\n",
              "           [253, 253, 253],\n",
              "           [253, 253, 253],\n",
              "           ...,\n",
              "           [253, 253, 253],\n",
              "           [253, 253, 253],\n",
              "           [255, 255, 255]]],\n",
              "  \n",
              "  \n",
              "         [[[250, 250, 248],\n",
              "           [248, 249, 243],\n",
              "           [247, 248, 239],\n",
              "           ...,\n",
              "           [250, 250, 246],\n",
              "           [250, 250, 246],\n",
              "           [249, 250, 246]],\n",
              "  \n",
              "          [[250, 251, 245],\n",
              "           [248, 249, 238],\n",
              "           [247, 247, 234],\n",
              "           ...,\n",
              "           [251, 251, 242],\n",
              "           [251, 252, 243],\n",
              "           [250, 251, 243]],\n",
              "  \n",
              "          [[251, 251, 244],\n",
              "           [250, 248, 237],\n",
              "           [250, 245, 233],\n",
              "           ...,\n",
              "           [250, 249, 238],\n",
              "           [250, 249, 240],\n",
              "           [250, 249, 242]],\n",
              "  \n",
              "          ...,\n",
              "  \n",
              "          [[221, 213, 191],\n",
              "           [221, 206, 176],\n",
              "           [225, 207, 181],\n",
              "           ...,\n",
              "           [199, 176, 134],\n",
              "           [207, 193, 165],\n",
              "           [233, 229, 226]],\n",
              "  \n",
              "          [[225, 223, 204],\n",
              "           [227, 219, 196],\n",
              "           [229, 216, 200],\n",
              "           ...,\n",
              "           [204, 185, 151],\n",
              "           [212, 201, 180],\n",
              "           [234, 232, 228]],\n",
              "  \n",
              "          [[233, 233, 226],\n",
              "           [234, 232, 224],\n",
              "           [235, 230, 225],\n",
              "           ...,\n",
              "           [219, 209, 194],\n",
              "           [223, 216, 207],\n",
              "           [232, 230, 228]]],\n",
              "  \n",
              "  \n",
              "         ...,\n",
              "  \n",
              "  \n",
              "         [[[248, 244, 242],\n",
              "           [240, 232, 223],\n",
              "           [236, 232, 223],\n",
              "           ...,\n",
              "           [233, 229, 222],\n",
              "           [230, 228, 222],\n",
              "           [238, 237, 233]],\n",
              "  \n",
              "          [[225, 213, 204],\n",
              "           [186, 167, 149],\n",
              "           [175, 159, 140],\n",
              "           ...,\n",
              "           [163, 148, 134],\n",
              "           [156, 144, 133],\n",
              "           [192, 184, 176]],\n",
              "  \n",
              "          [[209, 194, 179],\n",
              "           [144, 120,  95],\n",
              "           [139, 115,  87],\n",
              "           ...,\n",
              "           [109,  86,  67],\n",
              "           [109,  90,  76],\n",
              "           [157, 145, 135]],\n",
              "  \n",
              "          ...,\n",
              "  \n",
              "          [[161, 159, 153],\n",
              "           [ 39,  34,  28],\n",
              "           [ 28,  20,  14],\n",
              "           ...,\n",
              "           [ 93,  72,  53],\n",
              "           [ 85,  67,  50],\n",
              "           [136, 126, 115]],\n",
              "  \n",
              "          [[181, 179, 172],\n",
              "           [ 86,  83,  77],\n",
              "           [ 71,  68,  62],\n",
              "           ...,\n",
              "           [122, 103,  89],\n",
              "           [105,  92,  82],\n",
              "           [151, 145, 141]],\n",
              "  \n",
              "          [[224, 223, 218],\n",
              "           [180, 180, 175],\n",
              "           [173, 172, 167],\n",
              "           ...,\n",
              "           [196, 187, 180],\n",
              "           [183, 178, 174],\n",
              "           [204, 205, 205]]],\n",
              "  \n",
              "  \n",
              "         [[[156, 154, 137],\n",
              "           [151, 146, 123],\n",
              "           [151, 144, 125],\n",
              "           ...,\n",
              "           [155, 150, 129],\n",
              "           [152, 148, 125],\n",
              "           [186, 184, 163]],\n",
              "  \n",
              "          [[110, 106,  77],\n",
              "           [116, 108,  62],\n",
              "           [114, 101,  57],\n",
              "           ...,\n",
              "           [116, 106,  61],\n",
              "           [111, 103,  56],\n",
              "           [134, 129,  92]],\n",
              "  \n",
              "          [[116, 112,  82],\n",
              "           [124, 118,  66],\n",
              "           [128, 118,  67],\n",
              "           ...,\n",
              "           [ 99,  84,  43],\n",
              "           [101,  87,  43],\n",
              "           [129, 118,  86]],\n",
              "  \n",
              "          ...,\n",
              "  \n",
              "          [[109, 101,  74],\n",
              "           [112, 100,  54],\n",
              "           [118, 105,  62],\n",
              "           ...,\n",
              "           [126, 113,  65],\n",
              "           [126, 111,  61],\n",
              "           [138, 124,  89]],\n",
              "  \n",
              "          [[ 98,  92,  63],\n",
              "           [ 93,  82,  35],\n",
              "           [ 96,  83,  38],\n",
              "           ...,\n",
              "           [112,  96,  47],\n",
              "           [109,  92,  45],\n",
              "           [127, 113,  80]],\n",
              "  \n",
              "          [[170, 167, 145],\n",
              "           [160, 153, 118],\n",
              "           [163, 152, 119],\n",
              "           ...,\n",
              "           [161, 151, 114],\n",
              "           [156, 144, 107],\n",
              "           [163, 154, 126]]],\n",
              "  \n",
              "  \n",
              "         [[[ 31,  67, 122],\n",
              "           [ 30,  68, 124],\n",
              "           [ 31,  69, 126],\n",
              "           ...,\n",
              "           [ 32,  70, 129],\n",
              "           [ 32,  70, 125],\n",
              "           [ 32,  69, 122]],\n",
              "  \n",
              "          [[ 29,  68, 126],\n",
              "           [ 28,  69, 128],\n",
              "           [ 30,  69, 130],\n",
              "           ...,\n",
              "           [ 32,  70, 131],\n",
              "           [ 32,  69, 127],\n",
              "           [ 31,  69, 124]],\n",
              "  \n",
              "          [[ 30,  67, 126],\n",
              "           [ 29,  68, 128],\n",
              "           [ 30,  69, 130],\n",
              "           ...,\n",
              "           [ 32,  72, 132],\n",
              "           [ 31,  70, 130],\n",
              "           [ 30,  69, 127]],\n",
              "  \n",
              "          ...,\n",
              "  \n",
              "          [[ 39,  41,  76],\n",
              "           [ 38,  42,  76],\n",
              "           [ 38,  44,  78],\n",
              "           ...,\n",
              "           [ 39,  44,  79],\n",
              "           [ 38,  42,  77],\n",
              "           [ 39,  41,  76]],\n",
              "  \n",
              "          [[ 40,  39,  73],\n",
              "           [ 39,  40,  74],\n",
              "           [ 39,  41,  76],\n",
              "           ...,\n",
              "           [ 39,  41,  76],\n",
              "           [ 40,  41,  74],\n",
              "           [ 40,  39,  73]],\n",
              "  \n",
              "          [[ 40,  39,  70],\n",
              "           [ 40,  39,  71],\n",
              "           [ 40,  39,  72],\n",
              "           ...,\n",
              "           [ 41,  38,  72],\n",
              "           [ 39,  38,  69],\n",
              "           [ 40,  37,  67]]]], dtype=uint8),\n",
              "  array([[19],\n",
              "         [29],\n",
              "         [ 0],\n",
              "         ...,\n",
              "         [ 3],\n",
              "         [ 7],\n",
              "         [73]])),\n",
              " (array([[[[199, 215, 249],\n",
              "           [196, 211, 244],\n",
              "           [195, 210, 243],\n",
              "           ...,\n",
              "           [216, 231, 250],\n",
              "           [217, 231, 250],\n",
              "           [224, 234, 252]],\n",
              "  \n",
              "          [[197, 210, 239],\n",
              "           [195, 208, 238],\n",
              "           [195, 210, 240],\n",
              "           ...,\n",
              "           [231, 243, 250],\n",
              "           [233, 243, 250],\n",
              "           [241, 245, 253]],\n",
              "  \n",
              "          [[222, 226, 246],\n",
              "           [213, 220, 242],\n",
              "           [209, 219, 243],\n",
              "           ...,\n",
              "           [243, 250, 251],\n",
              "           [244, 249, 251],\n",
              "           [250, 250, 253]],\n",
              "  \n",
              "          ...,\n",
              "  \n",
              "          [[ 72,  73,  99],\n",
              "           [ 71,  74, 102],\n",
              "           [ 74,  78, 108],\n",
              "           ...,\n",
              "           [220, 208, 217],\n",
              "           [183, 168, 181],\n",
              "           [155, 141, 150]],\n",
              "  \n",
              "          [[ 72,  75, 104],\n",
              "           [ 76,  81, 111],\n",
              "           [ 84,  89, 122],\n",
              "           ...,\n",
              "           [222, 212, 220],\n",
              "           [187, 174, 192],\n",
              "           [145, 132, 149]],\n",
              "  \n",
              "          [[ 80,  85, 118],\n",
              "           [ 84,  90, 123],\n",
              "           [ 85,  92, 127],\n",
              "           ...,\n",
              "           [217, 207, 215],\n",
              "           [207, 194, 211],\n",
              "           [176, 164, 183]]],\n",
              "  \n",
              "  \n",
              "         [[[113, 130,  98],\n",
              "           [ 88, 105,  73],\n",
              "           [ 72,  89,  58],\n",
              "           ...,\n",
              "           [105, 124,  93],\n",
              "           [ 86, 106,  74],\n",
              "           [ 63,  82,  55]],\n",
              "  \n",
              "          [[ 95, 113,  80],\n",
              "           [ 78,  97,  64],\n",
              "           [ 62,  80,  49],\n",
              "           ...,\n",
              "           [103, 122,  84],\n",
              "           [ 89, 109,  70],\n",
              "           [ 65,  83,  49]],\n",
              "  \n",
              "          [[ 79,  97,  62],\n",
              "           [ 65,  82,  49],\n",
              "           [ 52,  67,  37],\n",
              "           ...,\n",
              "           [ 65,  79,  52],\n",
              "           [ 62,  79,  51],\n",
              "           [ 49,  64,  38]],\n",
              "  \n",
              "          ...,\n",
              "  \n",
              "          [[121, 102,  86],\n",
              "           [127, 108,  96],\n",
              "           [139, 121, 111],\n",
              "           ...,\n",
              "           [ 80, 100,  71],\n",
              "           [ 75,  95,  68],\n",
              "           [ 66,  85,  62]],\n",
              "  \n",
              "          [[170, 145, 131],\n",
              "           [167, 145, 132],\n",
              "           [159, 140, 128],\n",
              "           ...,\n",
              "           [100, 113,  84],\n",
              "           [ 89, 103,  77],\n",
              "           [ 73,  87,  64]],\n",
              "  \n",
              "          [[168, 150, 135],\n",
              "           [170, 152, 137],\n",
              "           [173, 156, 141],\n",
              "           ...,\n",
              "           [118, 123,  96],\n",
              "           [ 99, 106,  80],\n",
              "           [ 84,  92,  67]]],\n",
              "  \n",
              "  \n",
              "         [[[ 61,  90, 120],\n",
              "           [ 61,  89, 119],\n",
              "           [ 67,  96, 125],\n",
              "           ...,\n",
              "           [ 70,  93, 124],\n",
              "           [ 64,  87, 118],\n",
              "           [ 64,  88, 119]],\n",
              "  \n",
              "          [[ 67,  97, 127],\n",
              "           [ 78, 108, 138],\n",
              "           [ 80, 109, 139],\n",
              "           ...,\n",
              "           [ 95, 113, 142],\n",
              "           [ 83, 101, 129],\n",
              "           [ 83, 102, 130]],\n",
              "  \n",
              "          [[ 64,  93, 123],\n",
              "           [ 66,  95, 125],\n",
              "           [ 61,  90, 120],\n",
              "           ...,\n",
              "           [120, 134, 160],\n",
              "           [109, 123, 150],\n",
              "           [112, 126, 152]],\n",
              "  \n",
              "          ...,\n",
              "  \n",
              "          [[ 84,  87,  87],\n",
              "           [ 67,  59,  38],\n",
              "           [ 84,  78,  33],\n",
              "           ...,\n",
              "           [204, 167, 160],\n",
              "           [235, 202, 192],\n",
              "           [236, 206, 193]],\n",
              "  \n",
              "          [[ 72,  64,  54],\n",
              "           [ 70,  54,  30],\n",
              "           [ 84,  79,  40],\n",
              "           ...,\n",
              "           [199, 157, 152],\n",
              "           [190, 150, 142],\n",
              "           [196, 161, 149]],\n",
              "  \n",
              "          [[ 72,  61,  47],\n",
              "           [ 76,  64,  35],\n",
              "           [ 77,  74,  37],\n",
              "           ...,\n",
              "           [227, 191, 189],\n",
              "           [155, 119, 115],\n",
              "           [134,  98,  89]]],\n",
              "  \n",
              "  \n",
              "         ...,\n",
              "  \n",
              "  \n",
              "         [[[ 24,  38,  31],\n",
              "           [ 24,  40,  31],\n",
              "           [ 22,  34,  28],\n",
              "           ...,\n",
              "           [ 56,  59,  55],\n",
              "           [ 35,  40,  37],\n",
              "           [ 25,  35,  32]],\n",
              "  \n",
              "          [[ 19,  29,  26],\n",
              "           [ 28,  45,  35],\n",
              "           [ 25,  40,  29],\n",
              "           ...,\n",
              "           [ 55,  57,  58],\n",
              "           [ 38,  42,  44],\n",
              "           [ 36,  44,  39]],\n",
              "  \n",
              "          [[ 23,  38,  28],\n",
              "           [ 31,  51,  35],\n",
              "           [ 29,  50,  32],\n",
              "           ...,\n",
              "           [ 33,  41,  36],\n",
              "           [ 33,  37,  41],\n",
              "           [ 42,  49,  44]],\n",
              "  \n",
              "          ...,\n",
              "  \n",
              "          [[ 39,  73,  29],\n",
              "           [ 47,  95,  25],\n",
              "           [ 61, 104,  44],\n",
              "           ...,\n",
              "           [ 41,  79,  35],\n",
              "           [ 71, 103,  72],\n",
              "           [ 54,  93,  53]],\n",
              "  \n",
              "          [[ 39,  72,  34],\n",
              "           [ 40,  91,  18],\n",
              "           [ 51,  96,  33],\n",
              "           ...,\n",
              "           [ 33,  70,  24],\n",
              "           [ 67, 100,  62],\n",
              "           [ 61, 101,  55]],\n",
              "  \n",
              "          [[ 48,  89,  33],\n",
              "           [ 37,  83,  17],\n",
              "           [ 46,  91,  24],\n",
              "           ...,\n",
              "           [ 33,  66,  20],\n",
              "           [ 65,  95,  54],\n",
              "           [ 60,  94,  54]]],\n",
              "  \n",
              "  \n",
              "         [[[ 86,  90,  80],\n",
              "           [ 93,  90,  75],\n",
              "           [ 28,  25,  21],\n",
              "           ...,\n",
              "           [ 73,  52,  36],\n",
              "           [ 67,  49,  39],\n",
              "           [ 92,  71,  61]],\n",
              "  \n",
              "          [[ 82,  86,  80],\n",
              "           [ 43,  44,  41],\n",
              "           [ 17,  17,  18],\n",
              "           ...,\n",
              "           [ 65,  42,  28],\n",
              "           [ 34,  23,  16],\n",
              "           [ 56,  41,  33]],\n",
              "  \n",
              "          [[ 64,  66,  60],\n",
              "           [ 25,  27,  26],\n",
              "           [ 39,  39,  39],\n",
              "           ...,\n",
              "           [ 54,  37,  24],\n",
              "           [ 34,  25,  19],\n",
              "           [ 40,  31,  22]],\n",
              "  \n",
              "          ...,\n",
              "  \n",
              "          [[ 43,  43,  39],\n",
              "           [ 87,  82,  70],\n",
              "           [112, 105,  91],\n",
              "           ...,\n",
              "           [130, 130, 123],\n",
              "           [128, 126, 121],\n",
              "           [119, 121, 119]],\n",
              "  \n",
              "          [[ 44,  42,  35],\n",
              "           [ 79,  74,  62],\n",
              "           [ 99,  95,  82],\n",
              "           ...,\n",
              "           [135, 133, 123],\n",
              "           [130, 127, 119],\n",
              "           [121, 120, 114]],\n",
              "  \n",
              "          [[ 85,  82,  70],\n",
              "           [ 97,  91,  77],\n",
              "           [ 90,  88,  76],\n",
              "           ...,\n",
              "           [132, 128, 119],\n",
              "           [129, 124, 115],\n",
              "           [120, 117, 109]]],\n",
              "  \n",
              "  \n",
              "         [[[246, 246, 242],\n",
              "           [240, 238, 232],\n",
              "           [214, 212, 199],\n",
              "           ...,\n",
              "           [ 74,  32,  35],\n",
              "           [ 77,  34,  37],\n",
              "           [ 81,  34,  35]],\n",
              "  \n",
              "          [[210, 205, 196],\n",
              "           [243, 240, 230],\n",
              "           [229, 225, 214],\n",
              "           ...,\n",
              "           [ 75,  33,  35],\n",
              "           [ 79,  35,  38],\n",
              "           [ 83,  34,  36]],\n",
              "  \n",
              "          [[144, 134, 112],\n",
              "           [175, 163, 144],\n",
              "           [158, 144, 130],\n",
              "           ...,\n",
              "           [ 74,  33,  35],\n",
              "           [ 79,  35,  38],\n",
              "           [ 82,  33,  36]],\n",
              "  \n",
              "          ...,\n",
              "  \n",
              "          [[198, 190, 176],\n",
              "           [111, 111,  66],\n",
              "           [ 58,  55,  27],\n",
              "           ...,\n",
              "           [ 62,  81,  41],\n",
              "           [ 72, 100,  41],\n",
              "           [ 80, 107,  49]],\n",
              "  \n",
              "          [[167, 160, 144],\n",
              "           [ 62,  64,  27],\n",
              "           [ 85,  85,  68],\n",
              "           ...,\n",
              "           [ 92, 126,  58],\n",
              "           [143, 183, 104],\n",
              "           [160, 199, 118]],\n",
              "  \n",
              "          [[115, 108,  94],\n",
              "           [ 42,  37,  21],\n",
              "           [139, 136, 127],\n",
              "           ...,\n",
              "           [139, 172, 114],\n",
              "           [167, 204, 141],\n",
              "           [146, 182, 118]]]], dtype=uint8),\n",
              "  array([[49],\n",
              "         [33],\n",
              "         [72],\n",
              "         ...,\n",
              "         [51],\n",
              "         [42],\n",
              "         [70]])))"
            ]
          },
          "execution_count": 3,
          "metadata": {},
          "output_type": "execute_result"
        }
      ],
      "source": [
        "keras.datasets.cifar100.load_data()"
      ]
    },
    {
      "cell_type": "markdown",
      "metadata": {
        "id": "YZAqKj2wzqyz"
      },
      "source": [
        "Data Spliting"
      ]
    },
    {
      "cell_type": "code",
      "execution_count": null,
      "metadata": {
        "colab": {
          "base_uri": "https://localhost:8080/"
        },
        "id": "oSO7bpZGpjc5",
        "outputId": "1f27c83f-4ce2-4252-ef60-dcfc04544952"
      },
      "outputs": [
        {
          "name": "stdout",
          "output_type": "stream",
          "text": [
            "x_train shape: (50000, 32, 32, 3) - y_train shape: (50000, 1)\n",
            "x_test shape: (10000, 32, 32, 3) - y_test shape: (10000, 1)\n"
          ]
        }
      ],
      "source": [
        "num_classes = 100\n",
        "input_shape = (32, 32, 3)\n",
        "\n",
        "(x_train, y_train), (x_test, y_test) = keras.datasets.cifar100.load_data()\n",
        "\n",
        "print(f\"x_train shape: {x_train.shape} - y_train shape: {y_train.shape}\")\n",
        "print(f\"x_test shape: {x_test.shape} - y_test shape: {y_test.shape}\")\n"
      ]
    },
    {
      "cell_type": "markdown",
      "metadata": {
        "id": "yQYMx9cwzCnG"
      },
      "source": [
        "**`data visualize`**"
      ]
    },
    {
      "cell_type": "code",
      "execution_count": null,
      "metadata": {
        "colab": {
          "base_uri": "https://localhost:8080/",
          "height": 1000
        },
        "id": "xouFWtjQsMdg",
        "outputId": "a62b9576-0b0d-4c42-9661-95a9d7d535ad"
      },
      "outputs": [
        {
          "name": "stderr",
          "output_type": "stream",
          "text": [
            "/usr/local/lib/python3.10/dist-packages/matplotlib/text.py:1279: FutureWarning: elementwise comparison failed; returning scalar instead, but in the future will perform elementwise comparison\n",
            "  if s != self._text:\n"
          ]
        },
        {
          "data": {
            "image/png": "[encoded data removed]",
            "text/plain": [
              "<Figure size 1000x1000 with 18 Axes>"
            ]
          },
          "metadata": {},
          "output_type": "display_data"
        }
      ],
      "source": [
        "import matplotlib.pyplot as plt\n",
        "\n",
        "def show_samples(data, labels, num_samples=18, rows=6, cols=3):\n",
        "    plt.figure(figsize=(10, 10))\n",
        "    for i in range(num_samples):\n",
        "        k = np.random.randint(0, data.shape[0])\n",
        "        plt.subplot(rows, cols, i + 1)\n",
        "        plt.title(labels[k])\n",
        "        plt.imshow(data[k])\n",
        "    plt.tight_layout()\n",
        "    plt.show()\n",
        "\n",
        "show_samples(x_train, y_train)"
      ]
    },
    {
      "cell_type": "markdown",
      "metadata": {
        "id": "c21aXfPZrYM1"
      },
      "source": [
        "Configure the hyperparameters"
      ]
    },
    {
      "cell_type": "code",
      "execution_count": null,
      "metadata": {
        "id": "LkvhCapMqDPT"
      },
      "outputs": [],
      "source": [
        "learning_rate = 0.001\n",
        "weight_decay = 0.0001\n",
        "batch_size = 256\n",
        "num_epochs = 5\n",
        "image_size = 72  # We'll resize input images to this size\n",
        "patch_size = 6  # Size of the patches to be extract from the input images\n",
        "num_patches = (image_size // patch_size) ** 2\n",
        "projection_dim = 64\n",
        "num_heads = 4\n",
        "transformer_units = [\n",
        "    projection_dim * 2,\n",
        "    projection_dim,\n",
        "]  # Size of the transformer layers\n",
        "transformer_layers = 8\n",
        "mlp_head_units = [2048, 1024]  # Size of the dense layers of the final classifier"
      ]
    },
    {
      "cell_type": "markdown",
      "metadata": {
        "id": "WiUK0sVIrdcx"
      },
      "source": [
        "Use data augmentation"
      ]
    },
    {
      "cell_type": "code",
      "execution_count": null,
      "metadata": {
        "id": "1X4FDbT1qLiP"
      },
      "outputs": [],
      "source": [
        "data_augmentation = keras.Sequential(\n",
        "    [\n",
        "        layers.Normalization(),\n",
        "        layers.Resizing(image_size, image_size),\n",
        "        layers.RandomFlip(\"horizontal\"),\n",
        "        layers.RandomRotation(factor=0.02),\n",
        "        layers.RandomZoom(\n",
        "            height_factor=0.2, width_factor=0.2\n",
        "        ),\n",
        "    ],\n",
        "    name=\"data_augmentation\",\n",
        ")\n",
        "# Compute the mean and the variance of the training data for normalization.\n",
        "data_augmentation.layers[0].adapt(x_train)"
      ]
    },
    {
      "cell_type": "markdown",
      "metadata": {
        "id": "crWOderxroFK"
      },
      "source": [
        "Implement multilayer perceptron (MLP)"
      ]
    },
    {
      "cell_type": "code",
      "execution_count": null,
      "metadata": {
        "id": "noXSWbD7qzO_"
      },
      "outputs": [],
      "source": [
        "def mlp(x, hidden_units, dropout_rate):\n",
        "    for units in hidden_units:\n",
        "        x = layers.Dense(units, activation=tf.nn.gelu)(x)\n",
        "        x = layers.Dropout(dropout_rate)(x)\n",
        "    return x"
      ]
    },
    {
      "cell_type": "markdown",
      "metadata": {
        "id": "9yFdlaxwrtgG"
      },
      "source": [
        "Implement patch creation as a layer"
      ]
    },
    {
      "cell_type": "code",
      "execution_count": null,
      "metadata": {
        "id": "7Tma6wTzq3se"
      },
      "outputs": [],
      "source": [
        "\n",
        "class Patches(layers.Layer):\n",
        "    def __init__(self, patch_size):\n",
        "        super().__init__()\n",
        "        self.patch_size = patch_size\n",
        "\n",
        "    def call(self, images):\n",
        "        batch_size = tf.shape(images)[0]\n",
        "        patches = tf.image.extract_patches(\n",
        "            images=images,\n",
        "            sizes=[1, self.patch_size, self.patch_size, 1],\n",
        "            strides=[1, self.patch_size, self.patch_size, 1],\n",
        "            rates=[1, 1, 1, 1],\n",
        "            padding=\"VALID\",\n",
        "        )\n",
        "        patch_dims = patches.shape[-1]\n",
        "        patches = tf.reshape(patches, [batch_size, -1, patch_dims])\n",
        "        return patches\n"
      ]
    },
    {
      "cell_type": "markdown",
      "metadata": {
        "id": "uQTLygM1sKlt"
      },
      "source": [
        "**Let's display patches for a sample image**"
      ]
    },
    {
      "cell_type": "code",
      "execution_count": null,
      "metadata": {
        "colab": {
          "background_save": true,
          "base_uri": "https://localhost:8080/",
          "height": 738
        },
        "id": "6Yk45dz-sIIz",
        "outputId": "2aa0a3bd-ef5f-43a3-fa9c-89788f848afd"
      },
      "outputs": [
        {
          "name": "stdout",
          "output_type": "stream",
          "text": [
            "Image size: 72 X 72\n",
            "Patch size: 6 X 6\n",
            "Patches per image: 144\n",
            "Elements per patch: 108\n"
          ]
        },
        {
          "data": {
            "image/png": "[encoded data removed]",
            "text/plain": [
              "<Figure size 400x400 with 1 Axes>"
            ]
          },
          "metadata": {},
          "output_type": "display_data"
        },
        {
          "data": {
            "image/png": "[encoded data removed]",
            "text/plain": [
              "<Figure size 400x400 with 144 Axes>"
            ]
          },
          "metadata": {},
          "output_type": "display_data"
        }
      ],
      "source": [
        "import matplotlib.pyplot as plt\n",
        "\n",
        "plt.figure(figsize=(4, 4))\n",
        "image = x_train[np.random.choice(range(x_train.shape[0]))]\n",
        "plt.imshow(image.astype(\"uint8\"))\n",
        "plt.axis(\"off\")\n",
        "\n",
        "resized_image = tf.image.resize(\n",
        "    tf.convert_to_tensor([image]), size=(image_size, image_size)\n",
        ")\n",
        "patches = Patches(patch_size)(resized_image)\n",
        "print(f\"Image size: {image_size} X {image_size}\")\n",
        "print(f\"Patch size: {patch_size} X {patch_size}\")\n",
        "print(f\"Patches per image: {patches.shape[1]}\")\n",
        "print(f\"Elements per patch: {patches.shape[-1]}\")\n",
        "\n",
        "n = int(np.sqrt(patches.shape[1]))\n",
        "plt.figure(figsize=(4, 4))\n",
        "for i, patch in enumerate(patches[0]):\n",
        "    ax = plt.subplot(n, n, i + 1)\n",
        "    patch_img = tf.reshape(patch, (patch_size, patch_size, 3))\n",
        "    plt.imshow(patch_img.numpy().astype(\"uint8\"))\n",
        "    plt.axis(\"off\")"
      ]
    },
    {
      "cell_type": "markdown",
      "metadata": {
        "id": "8Fh764G7sm3Y"
      },
      "source": [
        "Implement the patch encoding layer"
      ]
    },
    {
      "cell_type": "code",
      "execution_count": null,
      "metadata": {
        "id": "ACxZlzvcwWW8"
      },
      "outputs": [],
      "source": [
        "\n",
        "class PatchEncoder(layers.Layer):\n",
        "    def __init__(self, num_patches, projection_dim):\n",
        "        super().__init__()\n",
        "        self.num_patches = num_patches\n",
        "        self.projection = layers.Dense(units=projection_dim)\n",
        "        self.position_embedding = layers.Embedding(\n",
        "            input_dim=num_patches, output_dim=projection_dim\n",
        "        )\n",
        "\n",
        "    def call(self, patch):\n",
        "        positions = tf.range(start=0, limit=self.num_patches, delta=1)\n",
        "        encoded = self.projection(patch) + self.position_embedding(positions)\n",
        "        return encoded"
      ]
    },
    {
      "cell_type": "markdown",
      "metadata": {
        "id": "EIycPTpWsxfV"
      },
      "source": [
        "Build the ViT model"
      ]
    },
    {
      "cell_type": "code",
      "execution_count": null,
      "metadata": {
        "id": "jiBPlu6Jsjya"
      },
      "outputs": [],
      "source": [
        "\n",
        "def create_vit_classifier():\n",
        "    inputs = layers.Input(shape=input_shape)# Augment data.\n",
        "    augmented = data_augmentation(inputs)# Create patches.\n",
        "    patches = Patches(patch_size)(augmented) # Encode patches.\n",
        "    encoded_patches = PatchEncoder(num_patches, projection_dim)(patches)\n",
        "\n",
        "    # Create multiple layers of the Transformer block.\n",
        "    for _ in range(transformer_layers):\n",
        "        # Layer normalization 1.\n",
        "        x1 = layers.LayerNormalization(epsilon=1e-6)(encoded_patches)\n",
        "        # Create a multi-head attention layer.\n",
        "        attention_output = layers.MultiHeadAttention(\n",
        "            num_heads=num_heads, key_dim=projection_dim, dropout=0.1\n",
        "        )(x1, x1)\n",
        "        # Skip connection 1.\n",
        "        x2 = layers.Add()([attention_output, encoded_patches])\n",
        "        # Layer normalization 2.\n",
        "        x3 = layers.LayerNormalization(epsilon=1e-6)(x2)\n",
        "        # MLP.\n",
        "        x3 = mlp(x3, hidden_units=transformer_units, dropout_rate=0.1)\n",
        "        # Skip connection 2.\n",
        "        encoded_patches = layers.Add()([x3, x2])\n",
        "\n",
        "    # Create a [batch_size, projection_dim] tensor.\n",
        "    representation = layers.LayerNormalization(epsilon=1e-6)(encoded_patches)\n",
        "    representation = layers.Flatten()(representation)\n",
        "    representation = layers.Dropout(0.5)(representation)\n",
        "    # Add MLP.\n",
        "    features = mlp(representation, hidden_units=mlp_head_units, dropout_rate=0.5)\n",
        "    # Classify outputs.\n",
        "    logits = layers.Dense(num_classes)(features)\n",
        "    # Create the Keras model.\n",
        "    model = keras.Model(inputs=inputs, outputs=logits)\n",
        "    return model"
      ]
    },
    {
      "cell_type": "markdown",
      "metadata": {
        "id": "_bz4nPyhs7kg"
      },
      "source": [
        "Compile, train, and evaluate the mode"
      ]
    },
    {
      "cell_type": "code",
      "execution_count": null,
      "metadata": {
        "colab": {
          "background_save": true,
          "base_uri": "https://localhost:8080/"
        },
        "id": "K2eOQ7vXspCL",
        "outputId": "4a19b38f-45ac-43bb-83c5-616d2aba22bf"
      },
      "outputs": [
        {
          "name": "stdout",
          "output_type": "stream",
          "text": [
            "Epoch 1/10\n",
            "176/176 [==============================] - 90s 397ms/step - loss: 4.4031 - accuracy: 0.0544 - top-5-accuracy: 0.1827 - val_loss: 3.8555 - val_accuracy: 0.1130 - val_top-5-accuracy: 0.3244\n",
            "Epoch 2/10\n",
            "176/176 [==============================] - 72s 410ms/step - loss: 3.8749 - accuracy: 0.1052 - top-5-accuracy: 0.3142 - val_loss: 3.5130 - val_accuracy: 0.1638 - val_top-5-accuracy: 0.4292\n",
            "Epoch 3/10\n",
            "176/176 [==============================] - 69s 390ms/step - loss: 3.6132 - accuracy: 0.1443 - top-5-accuracy: 0.3905 - val_loss: 3.3313 - val_accuracy: 0.2042 - val_top-5-accuracy: 0.4792\n",
            "Epoch 4/10\n",
            "176/176 [==============================] - 67s 379ms/step - loss: 3.4098 - accuracy: 0.1784 - top-5-accuracy: 0.4475 - val_loss: 3.1148 - val_accuracy: 0.2376 - val_top-5-accuracy: 0.5288\n",
            "Epoch 5/10\n",
            "176/176 [==============================] - 72s 410ms/step - loss: 3.2403 - accuracy: 0.2061 - top-5-accuracy: 0.4912 - val_loss: 2.9946 - val_accuracy: 0.2688 - val_top-5-accuracy: 0.5584\n",
            "Epoch 6/10\n",
            "176/176 [==============================] - 72s 410ms/step - loss: 3.0862 - accuracy: 0.2368 - top-5-accuracy: 0.5357 - val_loss: 2.7866 - val_accuracy: 0.3040 - val_top-5-accuracy: 0.6042\n",
            "Epoch 7/10\n",
            "176/176 [==============================] - 72s 411ms/step - loss: 2.9502 - accuracy: 0.2634 - top-5-accuracy: 0.5688 - val_loss: 2.6868 - val_accuracy: 0.3272 - val_top-5-accuracy: 0.6312\n",
            "Epoch 8/10\n",
            "176/176 [==============================] - 72s 411ms/step - loss: 2.8130 - accuracy: 0.2877 - top-5-accuracy: 0.6016 - val_loss: 2.5843 - val_accuracy: 0.3398 - val_top-5-accuracy: 0.6562\n",
            "Epoch 9/10\n",
            "176/176 [==============================] - 70s 396ms/step - loss: 2.7049 - accuracy: 0.3108 - top-5-accuracy: 0.6275 - val_loss: 2.5007 - val_accuracy: 0.3634 - val_top-5-accuracy: 0.6710\n",
            "Epoch 10/10\n",
            "176/176 [==============================] - 70s 398ms/step - loss: 2.6088 - accuracy: 0.3330 - top-5-accuracy: 0.6489 - val_loss: 2.4117 - val_accuracy: 0.3842 - val_top-5-accuracy: 0.6924\n",
            "313/313 [==============================] - 7s 23ms/step - loss: 2.3870 - accuracy: 0.3850 - top-5-accuracy: 0.6914\n",
            "Test accuracy: 38.5%\n",
            "Test top 5 accuracy: 69.14%\n"
          ]
        }
      ],
      "source": [
        "\n",
        "def run_experiment(model):\n",
        "    optimizer = tfa.optimizers.AdamW(\n",
        "        learning_rate=learning_rate, weight_decay=weight_decay\n",
        "    )\n",
        "\n",
        "    model.compile(\n",
        "        optimizer=optimizer,\n",
        "        loss=keras.losses.SparseCategoricalCrossentropy(from_logits=True),\n",
        "        metrics=[\n",
        "            keras.metrics.SparseCategoricalAccuracy(name=\"accuracy\"),\n",
        "            keras.metrics.SparseTopKCategoricalAccuracy(5, name=\"top-5-accuracy\"),\n",
        "        ],\n",
        "    )\n",
        "\n",
        "    checkpoint_filepath = \"/tmp/checkpoint\"\n",
        "    checkpoint_callback = keras.callbacks.ModelCheckpoint(\n",
        "        checkpoint_filepath,\n",
        "        monitor=\"val_accuracy\",\n",
        "        save_best_only=True,\n",
        "        save_weights_only=True,\n",
        "    )\n",
        "\n",
        "    history = model.fit(\n",
        "        x=x_train,\n",
        "        y=y_train,\n",
        "        batch_size=batch_size,\n",
        "        epochs=num_epochs,\n",
        "        validation_split=0.1,\n",
        "        callbacks=[checkpoint_callback],\n",
        "    )\n",
        "\n",
        "    model.load_weights(checkpoint_filepath)\n",
        "    _, accuracy, top_5_accuracy = model.evaluate(x_test, y_test)\n",
        "    print(f\"Test accuracy: {round(accuracy * 100, 2)}%\")\n",
        "    print(f\"Test top 5 accuracy: {round(top_5_accuracy * 100, 2)}%\")\n",
        "\n",
        "    return history\n",
        "\n",
        "\n",
        "vit_classifier = create_vit_classifier()\n",
        "history = run_experiment(vit_classifier)\n"
      ]
    }
  ],
  "metadata": {
    "accelerator": "GPU",
    "colab": {
      "provenance": [],
      "authorship_tag": "ABX9TyNxHoTYj4aBjRw2PIiH2aFx",
      "include_colab_link": true
    },
    "kernelspec": {
      "display_name": "Python 3",
      "name": "python3"
    },
    "language_info": {
      "name": "python"
    }
  },
  "nbformat": 4,
  "nbformat_minor": 0
}